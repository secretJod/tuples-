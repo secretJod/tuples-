{
  "nbformat": 4,
  "nbformat_minor": 0,
  "metadata": {
    "colab": {
      "provenance": []
    },
    "kernelspec": {
      "name": "python3",
      "display_name": "Python 3"
    },
    "language_info": {
      "name": "python"
    }
  },
  "cells": [
    {
      "cell_type": "code",
      "source": [
        "Q1. What is a tuple in Python?\n",
        "Q2. How do you create a tuple in Python?\n",
        "Q3. What is the difference between a tuple and a list in Python?\n",
        "Q4. Can a tuple be changed in Python?\n",
        "Q5. How do you access elements in a tuple?\n",
        "Q6. How do you unpack a tuple in Python?"
      ],
      "metadata": {
        "id": "G011dIzuETf-"
      },
      "execution_count": null,
      "outputs": []
    },
    {
      "cell_type": "code",
      "source": [
        "my_tuple = (1, 2, 3, 'abc')\n"
      ],
      "metadata": {
        "id": "7BwL8XZBEUe3"
      },
      "execution_count": null,
      "outputs": []
    },
    {
      "cell_type": "code",
      "source": [
        "my_tuple = (1, 2, 3, 'abc')\n",
        "print(my_tuple[2])  # This will print 3\n"
      ],
      "metadata": {
        "id": "emajdc4cEXJM"
      },
      "execution_count": null,
      "outputs": []
    },
    {
      "cell_type": "code",
      "source": [
        "my_tuple = (1, 2, 3)\n",
        "a, b, c = my_tuple\n",
        "print(a)  # This will print 1\n",
        "print(b)  # This will print 2\n",
        "print(c)  # This will print 3\n"
      ],
      "metadata": {
        "id": "dTN_PfjxEXSl"
      },
      "execution_count": null,
      "outputs": []
    },
    {
      "cell_type": "code",
      "source": [
        "A3. The main difference between a tuple and a list in Python is that tuples are immutable, while lists are mutable. This means that once a tuple is created, its elements cannot be changed, added, or removed. In contrast, lists can be modified after their creation."
      ],
      "metadata": {
        "id": "lnksLG19EXaJ"
      },
      "execution_count": null,
      "outputs": []
    },
    {
      "cell_type": "code",
      "source": [
        "A4. No, a tuple cannot be changed in Python after it has been created. This immutability is a key characteristic of tuples."
      ],
      "metadata": {
        "id": "wWN64mMtEXcu"
      },
      "execution_count": null,
      "outputs": []
    },
    {
      "cell_type": "code",
      "source": [
        "\n",
        "A1. In Python, a tuple is an ordered collection of elements, which can be of different data types. Tuples are immutable, meaning their elements cannot be changed after the tuple is created."
      ],
      "metadata": {
        "id": "sHEWk0u7EXfE"
      },
      "execution_count": null,
      "outputs": []
    },
    {
      "cell_type": "code",
      "source": [],
      "metadata": {
        "id": "2f8joPvGEXhp"
      },
      "execution_count": null,
      "outputs": []
    }
  ]
}